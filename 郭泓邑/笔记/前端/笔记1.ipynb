{
 "cells": [
  {
   "cell_type": "markdown",
   "id": "80a6b8ad",
   "metadata": {},
   "source": [
    "文本文档"
   ]
  }
 ],
 "metadata": {
  "language_info": {
   "name": "python"
  }
 },
 "nbformat": 4,
 "nbformat_minor": 5
}
