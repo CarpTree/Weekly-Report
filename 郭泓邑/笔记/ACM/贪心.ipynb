{
 "cells": [
  {
   "cell_type": "markdown",
   "id": "920500ed",
   "metadata": {},
   "source": [
    "# 贪心算法讲解及代码模板\n",
    "贪心算法（Greedy Algorithm）是一种在每一步选择中都采取当前状态下最优（即最有利）的选择，从而希望导致结果是全局最优的算法策略。\n",
    "\n",
    "#### 基本思想\n",
    "贪心算法的核心思想是：\n",
    "\n",
    "将问题分解为若干个子问题\n",
    "\n",
    "对每个子问题求解，得到子问题的局部最优解\n",
    "\n",
    "把子问题的局部最优解合成原来问题的一个解\n",
    "\n",
    "### 贪心算法的特点\n",
    "局部最优选择：每一步都做出当前看起来最好的选择\n",
    "\n",
    "不可回退：一旦做出选择，就不再改变\n",
    "\n",
    "高效性：通常比其他算法更高效\n",
    "\n",
    "不保证全局最优：但在某些问题上可以得到全局最优解\n",
    "\n",
    "### 适用条件\n",
    "贪心算法能正确解决问题的两个关键性质：\n",
    "\n",
    "贪心选择性质：可以通过局部最优选择达到全局最优\n",
    "\n",
    "最优子结构：问题的最优解包含其子问题的最优解\n",
    "\n",
    "### 常见贪心算法问题\n",
    "1.找零钱问题\n",
    "\n",
    "2.活动选择问题\n",
    "\n",
    "3.霍夫曼编码\n",
    "\n",
    "4.最小生成树（Prim和Kruskal算法）\n",
    "\n",
    "5.最短路径（Dijkstra算法）\n",
    "\n",
    "6.区间调度问题"
   ]
  },
  {
   "cell_type": "markdown",
   "id": "7a635a22",
   "metadata": {},
   "source": [
    "## 代码模板"
   ]
  },
  {
   "cell_type": "code",
   "execution_count": null,
   "id": "1957ff9f",
   "metadata": {},
   "outputs": [],
   "source": [
    "#include <vector>\n",
    "#include <algorithm>\n",
    "\n",
    "using namespace std;\n",
    "\n",
    "vector<DataType> greedyAlgorithm(ProblemType problem) {\n",
    "    vector<DataType> solution;\n",
    "    \n",
    "    // 预处理（通常需要排序）\n",
    "    sort(problem.begin(), problem.end(), [](const auto& a, const auto& b) {\n",
    "        // 定义排序规则，通常根据贪心策略决定\n",
    "        return a.property < b.property;\n",
    "    });\n",
    "    \n",
    "    // 遍历所有选择\n",
    "    for (const auto& item : problem) {\n",
    "        // 检查是否可以加入当前解\n",
    "        if (isFeasible(solution, item)) {\n",
    "            solution.push_back(item);\n",
    "        }\n",
    "    }\n",
    "    \n",
    "    return solution;\n",
    "}\n",
    "\n",
    "bool isFeasible(const vector<DataType>& solution, const DataType& item) {\n",
    "    // 实现可行性检查逻辑\n",
    "    // 通常检查是否与已有解冲突\n",
    "    return true;\n",
    "}"
   ]
  }
 ],
 "metadata": {
  "kernelspec": {
   "display_name": "Python 3",
   "language": "python",
   "name": "python3"
  },
  "language_info": {
   "name": "python",
   "version": "3.13.5"
  }
 },
 "nbformat": 4,
 "nbformat_minor": 5
}
