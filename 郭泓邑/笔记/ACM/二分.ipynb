{
 "cells": [
  {
   "cell_type": "markdown",
   "id": "97148d19",
   "metadata": {},
   "source": [
    "# 二分查找的前提是：数据的单调性"
   ]
  },
  {
   "cell_type": "code",
   "execution_count": null,
   "id": "dc82510c",
   "metadata": {},
   "outputs": [],
   "source": [
    "2 3 4 5 6 8 12 20 32 45 65 74 86 95 100\n",
    "↑               ↑                    ↑\n",
    "head           mid                   tail"
   ]
  },
  {
   "cell_type": "markdown",
   "id": "4522955d",
   "metadata": {},
   "source": [
    "# 二分查找的循环实现"
   ]
  },
  {
   "cell_type": "code",
   "execution_count": null,
   "id": "555e55f0",
   "metadata": {},
   "outputs": [],
   "source": [
    "int biSearch(int a[],int n,int x)\n",
    "{\n",
    "    int left =0, right = n-1;\n",
    "    while(left <= right)     //注意：等于不能少\n",
    "    {\n",
    "        int mid = (left + right) / 2;\n",
    "        if(a[mid] == x)\n",
    "            return mid;\n",
    "        else if(x > mid)\n",
    "            left = mid+1;\n",
    "        else right = mid-1;\n",
    "    }\n",
    "    return -1;\n",
    "}"
   ]
  },
  {
   "cell_type": "markdown",
   "id": "e57dddab",
   "metadata": {},
   "source": [
    "# 二分查找的递归实现"
   ]
  },
  {
   "cell_type": "code",
   "execution_count": null,
   "id": "21118ab5",
   "metadata": {},
   "outputs": [],
   "source": [
    "int BiSearch(int a[],int x,int left,int right )\n",
    "{\n",
    "    if(left>right)       //注意不能有=号\n",
    "        return -1;\n",
    "    else {\n",
    "        int mid = (left +right )/2;\n",
    "        if(a[mid]==x) return mid;\n",
    "        else if(x>a[mid]) return  BiSearch(a,x,mid+1,right);\n",
    "        else if(x<a[mid]) return  BiSearch(a,x,left,mid-1);\n",
    "    }\n",
    "}"
   ]
  }
 ],
 "metadata": {
  "language_info": {
   "name": "python"
  }
 },
 "nbformat": 4,
 "nbformat_minor": 5
}
