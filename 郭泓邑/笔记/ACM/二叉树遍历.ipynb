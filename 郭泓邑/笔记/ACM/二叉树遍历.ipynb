{
 "cells": [
  {
   "cell_type": "markdown",
   "id": "94b2ddc1",
   "metadata": {},
   "source": [
    "# 二叉树遍历\n",
    "# 二叉树遍历分为三种类型：\n",
    "### 前序遍历，后序遍历，中序遍历\n",
    "\n",
    "### 1.前序遍历 (根-左-右)\n",
    "#### 递归遍历"
   ]
  },
  {
   "cell_type": "code",
   "execution_count": null,
   "id": "84744405",
   "metadata": {
    "vscode": {
     "languageId": "cpp"
    }
   },
   "outputs": [],
   "source": [
    "void preorderRecursive(TreeNode* root) {\n",
    "    if (!root) return;\n",
    "    cout << root->val << \" \";  // 访问根节点\n",
    "    preorderRecursive(root->left);\n",
    "    preorderRecursive(root->right);\n",
    "}"
   ]
  },
  {
   "cell_type": "markdown",
   "id": "ab65e2d4",
   "metadata": {},
   "source": [
    "#### 非递归遍历(栈实现)"
   ]
  },
  {
   "cell_type": "code",
   "execution_count": null,
   "id": "4da87b6b",
   "metadata": {
    "vscode": {
     "languageId": "cpp"
    }
   },
   "outputs": [],
   "source": [
    "void preorderIterative(TreeNode* root) {\n",
    "    if (!root) return;\n",
    "    stack<TreeNode*> st;\n",
    "    \n",
    "    st.push(root);\n",
    "    \n",
    "    while (!st.empty()) {\n",
    "        TreeNode* node = st.top();\n",
    "        st.pop();\n",
    "        cout << node->val << \" \";\n",
    "        \n",
    "        // 右子树先入栈（后出）\n",
    "        if (node->right) st.push(node->right);\n",
    "        if (node->left) st.push(node->left);\n",
    "    }\n",
    "}"
   ]
  },
  {
   "cell_type": "markdown",
   "id": "00eb6b70",
   "metadata": {},
   "source": [
    "### 2.中序遍历 (左-根-右)"
   ]
  },
  {
   "cell_type": "markdown",
   "id": "939bdcd8",
   "metadata": {},
   "source": [
    "#### 递归遍历"
   ]
  },
  {
   "cell_type": "code",
   "execution_count": null,
   "id": "2c461538",
   "metadata": {
    "vscode": {
     "languageId": "cpp"
    }
   },
   "outputs": [],
   "source": [
    "void inorderRecursive(TreeNode* root) {\n",
    "    if (!root) return;\n",
    "    inorderRecursive(root->left);\n",
    "    cout << root->val << \" \";  // 访问根节点\n",
    "    inorderRecursive(root->right);\n",
    "}"
   ]
  },
  {
   "cell_type": "markdown",
   "id": "288cddd0",
   "metadata": {},
   "source": [
    "#### 非递归遍历"
   ]
  },
  {
   "cell_type": "code",
   "execution_count": null,
   "id": "a075323b",
   "metadata": {
    "vscode": {
     "languageId": "cpp"
    }
   },
   "outputs": [],
   "source": [
    "void inorderIterative(TreeNode* root) {\n",
    "    stack<TreeNode*> st;\n",
    "    TreeNode* curr = root;\n",
    "    \n",
    "    while (curr || !st.empty()) {\n",
    "        // 深入左子树\n",
    "        while (curr) {\n",
    "            st.push(curr);\n",
    "            curr = curr->left;\n",
    "        }\n",
    "        \n",
    "        curr = st.top();\n",
    "        st.pop();\n",
    "        cout << curr->val << \" \";\n",
    "        curr = curr->right;  // 转向右子树\n",
    "    }\n",
    "}"
   ]
  },
  {
   "cell_type": "markdown",
   "id": "fded7cf4",
   "metadata": {},
   "source": [
    "\n",
    "### 3.后序遍历 (左-右-根)\n",
    "\n"
   ]
  },
  {
   "cell_type": "markdown",
   "id": "f6aa9526",
   "metadata": {},
   "source": [
    "#### 递归遍历"
   ]
  },
  {
   "cell_type": "code",
   "execution_count": null,
   "id": "feed7424",
   "metadata": {
    "vscode": {
     "languageId": "cpp"
    }
   },
   "outputs": [],
   "source": [
    "void postorderRecursive(TreeNode* root) {\n",
    "    if (!root) return;\n",
    "    postorderRecursive(root->left);\n",
    "    postorderRecursive(root->right);\n",
    "    cout << root->val << \" \";  // 访问根节点\n",
    "}"
   ]
  },
  {
   "cell_type": "markdown",
   "id": "53fb4b04",
   "metadata": {},
   "source": [
    "#### 非递归遍历(双栈法)"
   ]
  },
  {
   "cell_type": "code",
   "execution_count": null,
   "id": "8e64e030",
   "metadata": {
    "vscode": {
     "languageId": "cpp"
    }
   },
   "outputs": [],
   "source": [
    "void postorderIterative(TreeNode* root) {\n",
    "    if (!root) return;\n",
    "    stack<TreeNode*> st1, st2;\n",
    "    st1.push(root);\n",
    "    \n",
    "    while (!st1.empty()) {\n",
    "        TreeNode* node = st1.top();\n",
    "        st1.pop();\n",
    "        st2.push(node);  // 根节点最后输出\n",
    "        \n",
    "        if (node->left) st1.push(node->left);\n",
    "        if (node->right) st1.push(node->right);\n",
    "    }\n",
    "    \n",
    "    // 按反序输出\n",
    "    while (!st2.empty()) {\n",
    "        cout << st2.top()->val << \" \";\n",
    "        st2.pop();\n",
    "    }\n",
    "}"
   ]
  }
 ],
 "metadata": {
  "language_info": {
   "name": "python"
  }
 },
 "nbformat": 4,
 "nbformat_minor": 5
}
